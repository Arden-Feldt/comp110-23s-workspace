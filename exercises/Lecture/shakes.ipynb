{
 "cells": [
  {
   "cell_type": "code",
   "execution_count": 5,
   "metadata": {},
   "outputs": [
    {
     "name": "stdout",
     "output_type": "stream",
     "text": [
      "124456\n",
      "<function count_letters at 0x00000155C0C463E0>\n"
     ]
    }
   ],
   "source": [
    "def read_lines(filename: str) -> list[str]:\n",
    "    lines: list[str] = []\n",
    "    file_handle = open(filename,  \"r\")\n",
    "    for line in file_handle:\n",
    "        line = line.strip()\n",
    "        line = line.lower()\n",
    "        lines.append(line)\n",
    "    file_handle.close()\n",
    "    return lines\n",
    "\n",
    "def count_letters(lines: list[str]) -> dict[str,int]:\n",
    "    result: dict[str, int] = {}\n",
    "    for line in lines:\n",
    "        for cha in line:\n",
    "            tally(result, cha)\n",
    "    return result\n",
    "\n",
    "shakes_lines: list[str] = read_lines(\"../lecture/t8.shakespeare.txt\")\n",
    "print(len(shakes_lines))\n",
    "print(count_letters)"
   ]
  }
 ],
 "metadata": {
  "kernelspec": {
   "display_name": "Python 3",
   "language": "python",
   "name": "python3"
  },
  "language_info": {
   "codemirror_mode": {
    "name": "ipython",
    "version": 3
   },
   "file_extension": ".py",
   "mimetype": "text/x-python",
   "name": "python",
   "nbconvert_exporter": "python",
   "pygments_lexer": "ipython3",
   "version": "3.11.1"
  },
  "orig_nbformat": 4,
  "vscode": {
   "interpreter": {
    "hash": "a1d3eeb32cfd662bbf0340406531c8949b04b50b674b14082ae59a9971cd16ee"
   }
  }
 },
 "nbformat": 4,
 "nbformat_minor": 2
}
